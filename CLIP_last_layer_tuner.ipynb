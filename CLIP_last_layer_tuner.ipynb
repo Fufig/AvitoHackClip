{
  "metadata": {
    "kernelspec": {
      "name": "python3",
      "display_name": "Python 3",
      "language": "python"
    },
    "language_info": {
      "name": "python",
      "version": "3.10.12",
      "mimetype": "text/x-python",
      "codemirror_mode": {
        "name": "ipython",
        "version": 3
      },
      "pygments_lexer": "ipython3",
      "nbconvert_exporter": "python",
      "file_extension": ".py"
    },
    "colab": {
      "provenance": [],
      "gpuType": "T4",
      "name": "CLIP last layer tuner"
    },
    "accelerator": "GPU",
    "kaggle": {
      "accelerator": "gpu",
      "dataSources": [
        {
          "sourceId": 10992345,
          "sourceType": "datasetVersion",
          "datasetId": 6842063
        }
      ],
      "dockerImageVersionId": 30919,
      "isInternetEnabled": true,
      "language": "python",
      "sourceType": "notebook",
      "isGpuEnabled": true
    }
  },
  "nbformat_minor": 0,
  "nbformat": 4,
  "cells": [
    {
      "cell_type": "code",
      "source": [],
      "metadata": {
        "id": "p0ubYuCASGyC",
        "trusted": true
      },
      "outputs": [],
      "execution_count": null
    },
    {
      "cell_type": "code",
      "source": [
        "# !wget -O dataset_colors.zip \"https://downloader.disk.yandex.ru/disk/bbf64f7a168a28e1d1d26070680e49ec208b557df29838280b5ef59ceec92465/67d3bfbb/WYSj2tn0xwfH9xrDn6OMB8Xma9PEMVVkSdj-oTw_no6Lf3VlXmTFMBrR9uEtahv-HyUjYUqUXYJgg46saw6Mxw%3D%3D?uid=0&filename=dataset_colors.zip&disposition=attachment&hash=Xb8qDbUG6BngPcy%2B0ZCrTUCidjMJdvUIof229dcBskZkF3VkCsI1pAlXMCohgSKXq/J6bpmRyOJonT3VoXnDag%3D%3D%3A/dataset_colors.zip&limit=0&content_type=application%2Fzip&owner_uid=957907626&fsize=9820116123&hid=a728aa4ce5f261d0a30ab7a0cf8b38fb&media_type=compressed&tknv=v2\""
      ],
      "metadata": {
        "id": "_cPaVpYz4CV8",
        "trusted": true,
        "execution": {
          "iopub.status.busy": "2025-03-14T05:24:03.933153Z",
          "iopub.execute_input": "2025-03-14T05:24:03.933372Z",
          "iopub.status.idle": "2025-03-14T05:24:03.936716Z",
          "shell.execute_reply.started": "2025-03-14T05:24:03.933352Z",
          "shell.execute_reply": "2025-03-14T05:24:03.936012Z"
        }
      },
      "outputs": [],
      "execution_count": null
    },
    {
      "cell_type": "code",
      "source": [
        "# !unzip /content/dataset_colors.zip"
      ],
      "metadata": {
        "id": "QQ_Rp20uZ6_e",
        "scrolled": true,
        "trusted": true,
        "execution": {
          "iopub.status.busy": "2025-03-14T05:24:03.937515Z",
          "iopub.execute_input": "2025-03-14T05:24:03.937762Z",
          "iopub.status.idle": "2025-03-14T05:24:03.979325Z",
          "shell.execute_reply.started": "2025-03-14T05:24:03.937743Z",
          "shell.execute_reply": "2025-03-14T05:24:03.978552Z"
        }
      },
      "outputs": [],
      "execution_count": null
    },
    {
      "cell_type": "code",
      "source": [
        "from transformers import AutoModel, AutoProcessor\n",
        "import torch\n",
        "from PIL import Image\n",
        "import os\n",
        "import pandas as pd\n",
        "from tqdm import tqdm\n",
        "from sklearn.metrics import recall_score, precision_score, accuracy_score, f1_score"
      ],
      "metadata": {
        "id": "J6nvY5sCfVyY",
        "trusted": true,
        "execution": {
          "iopub.status.busy": "2025-03-14T05:24:03.980028Z",
          "iopub.execute_input": "2025-03-14T05:24:03.980247Z",
          "iopub.status.idle": "2025-03-14T05:24:27.477344Z",
          "shell.execute_reply.started": "2025-03-14T05:24:03.980229Z",
          "shell.execute_reply": "2025-03-14T05:24:27.476448Z"
        }
      },
      "outputs": [],
      "execution_count": null
    },
    {
      "cell_type": "code",
      "source": [
        "df = pd.read_csv('/kaggle/input/avitohack/dataset_colors/train_data.csv')\n",
        "\n",
        "categories_dict = {\"сумки\": \"bags\", \"столы\": \"tables\", \"одежда для девочек\": \"clothings\", \"стулья\": \"chairs\"}\n",
        "colors_dict = {\"zelenyi\": \"green\", \"chernyi\": \"black\", \"belyi\": \"white\", \"bordovyi\": \"burgundy\", \"krasnyi\": \"red\", \"bezhevyi\": \"beige\", \"raznocvetnyi\": \"multicolored\", \"rozovyi\": \"pink\", \"serebristyi\": \"silver\", \"korichnevyi\": \"brown\", \"fioletovyi\": \"purple\", \"seryi\": \"gray\", \"goluboi\": \"light blue\", \"oranzhevyi\": \"orange\", \"sinii\": \"blue\", \"biryuzovyi\": \"turquoise\", \"zolotoi\": \"gold\", \"zheltyi\": \"yellow\"}\n",
        "\n",
        "df['text'] = [f'a photo of {i[2]} {i[1]}' for i in df.values]\n",
        "df['path'] = [f'/kaggle/input/avitohack/dataset_colors/train_data/{i[0]}.jpg' for i in df.values]\n",
        "\n",
        "df"
      ],
      "metadata": {
        "colab": {
          "base_uri": "https://localhost:8080/",
          "height": 424
        },
        "id": "HRTX7dwQSKE9",
        "outputId": "e1fbe477-96da-4c21-bd37-9b835c4c71c4",
        "trusted": true,
        "execution": {
          "iopub.status.busy": "2025-03-14T05:24:27.479045Z",
          "iopub.execute_input": "2025-03-14T05:24:27.479529Z",
          "iopub.status.idle": "2025-03-14T05:24:27.622482Z",
          "shell.execute_reply.started": "2025-03-14T05:24:27.479506Z",
          "shell.execute_reply": "2025-03-14T05:24:27.621716Z"
        }
      },
      "outputs": [
        {
          "execution_count": 4,
          "output_type": "execute_result",
          "data": {
            "text/plain": "                id            category        target  \\\n0      11624739720               сумки       zelenyi   \n1      11967354953               сумки       chernyi   \n2      19026830493               сумки         belyi   \n3      23088722867               сумки       chernyi   \n4      23546690270               столы         belyi   \n...            ...                 ...           ...   \n33298  37599243178  одежда для девочек  raznocvetnyi   \n33299  37599258032               сумки      bezhevyi   \n33300  37599262080  одежда для девочек      bezhevyi   \n33301  37599266008  одежда для девочек      bezhevyi   \n33302  37599275027               сумки       chernyi   \n\n                                             text  \\\n0                        a photo of zelenyi сумки   \n1                        a photo of chernyi сумки   \n2                          a photo of belyi сумки   \n3                        a photo of chernyi сумки   \n4                          a photo of belyi столы   \n...                                           ...   \n33298  a photo of raznocvetnyi одежда для девочек   \n33299                   a photo of bezhevyi сумки   \n33300      a photo of bezhevyi одежда для девочек   \n33301      a photo of bezhevyi одежда для девочек   \n33302                    a photo of chernyi сумки   \n\n                                                    path  \n0      /kaggle/input/avitohack/dataset_colors/train_d...  \n1      /kaggle/input/avitohack/dataset_colors/train_d...  \n2      /kaggle/input/avitohack/dataset_colors/train_d...  \n3      /kaggle/input/avitohack/dataset_colors/train_d...  \n4      /kaggle/input/avitohack/dataset_colors/train_d...  \n...                                                  ...  \n33298  /kaggle/input/avitohack/dataset_colors/train_d...  \n33299  /kaggle/input/avitohack/dataset_colors/train_d...  \n33300  /kaggle/input/avitohack/dataset_colors/train_d...  \n33301  /kaggle/input/avitohack/dataset_colors/train_d...  \n33302  /kaggle/input/avitohack/dataset_colors/train_d...  \n\n[33303 rows x 5 columns]",
            "text/html": "<div>\n<style scoped>\n    .dataframe tbody tr th:only-of-type {\n        vertical-align: middle;\n    }\n\n    .dataframe tbody tr th {\n        vertical-align: top;\n    }\n\n    .dataframe thead th {\n        text-align: right;\n    }\n</style>\n<table border=\"1\" class=\"dataframe\">\n  <thead>\n    <tr style=\"text-align: right;\">\n      <th></th>\n      <th>id</th>\n      <th>category</th>\n      <th>target</th>\n      <th>text</th>\n      <th>path</th>\n    </tr>\n  </thead>\n  <tbody>\n    <tr>\n      <th>0</th>\n      <td>11624739720</td>\n      <td>сумки</td>\n      <td>zelenyi</td>\n      <td>a photo of zelenyi сумки</td>\n      <td>/kaggle/input/avitohack/dataset_colors/train_d...</td>\n    </tr>\n    <tr>\n      <th>1</th>\n      <td>11967354953</td>\n      <td>сумки</td>\n      <td>chernyi</td>\n      <td>a photo of chernyi сумки</td>\n      <td>/kaggle/input/avitohack/dataset_colors/train_d...</td>\n    </tr>\n    <tr>\n      <th>2</th>\n      <td>19026830493</td>\n      <td>сумки</td>\n      <td>belyi</td>\n      <td>a photo of belyi сумки</td>\n      <td>/kaggle/input/avitohack/dataset_colors/train_d...</td>\n    </tr>\n    <tr>\n      <th>3</th>\n      <td>23088722867</td>\n      <td>сумки</td>\n      <td>chernyi</td>\n      <td>a photo of chernyi сумки</td>\n      <td>/kaggle/input/avitohack/dataset_colors/train_d...</td>\n    </tr>\n    <tr>\n      <th>4</th>\n      <td>23546690270</td>\n      <td>столы</td>\n      <td>belyi</td>\n      <td>a photo of belyi столы</td>\n      <td>/kaggle/input/avitohack/dataset_colors/train_d...</td>\n    </tr>\n    <tr>\n      <th>...</th>\n      <td>...</td>\n      <td>...</td>\n      <td>...</td>\n      <td>...</td>\n      <td>...</td>\n    </tr>\n    <tr>\n      <th>33298</th>\n      <td>37599243178</td>\n      <td>одежда для девочек</td>\n      <td>raznocvetnyi</td>\n      <td>a photo of raznocvetnyi одежда для девочек</td>\n      <td>/kaggle/input/avitohack/dataset_colors/train_d...</td>\n    </tr>\n    <tr>\n      <th>33299</th>\n      <td>37599258032</td>\n      <td>сумки</td>\n      <td>bezhevyi</td>\n      <td>a photo of bezhevyi сумки</td>\n      <td>/kaggle/input/avitohack/dataset_colors/train_d...</td>\n    </tr>\n    <tr>\n      <th>33300</th>\n      <td>37599262080</td>\n      <td>одежда для девочек</td>\n      <td>bezhevyi</td>\n      <td>a photo of bezhevyi одежда для девочек</td>\n      <td>/kaggle/input/avitohack/dataset_colors/train_d...</td>\n    </tr>\n    <tr>\n      <th>33301</th>\n      <td>37599266008</td>\n      <td>одежда для девочек</td>\n      <td>bezhevyi</td>\n      <td>a photo of bezhevyi одежда для девочек</td>\n      <td>/kaggle/input/avitohack/dataset_colors/train_d...</td>\n    </tr>\n    <tr>\n      <th>33302</th>\n      <td>37599275027</td>\n      <td>сумки</td>\n      <td>chernyi</td>\n      <td>a photo of chernyi сумки</td>\n      <td>/kaggle/input/avitohack/dataset_colors/train_d...</td>\n    </tr>\n  </tbody>\n</table>\n<p>33303 rows × 5 columns</p>\n</div>"
          },
          "metadata": {}
        }
      ],
      "execution_count": null
    },
    {
      "cell_type": "code",
      "source": [
        "import torch\n",
        "from torch.utils.data import DataLoader\n",
        "from torchvision import transforms\n",
        "from PIL import Image\n",
        "import torch.nn.functional as F\n",
        "from transformers import CLIPProcessor, CLIPModel\n",
        "\n",
        "model_name = 'jinaai/jina-clip-v1'\n",
        "model = AutoModel.from_pretrained(model_name, trust_remote_code=True)\n",
        "processor = AutoProcessor.from_pretrained(model_name, trust_remote_code=True)\n",
        "\n",
        "device = \"cuda\" if torch.cuda.is_available() else \"cpu\"\n",
        "model.to(device)\n",
        "\n",
        "# for param in model.parameters():\n",
        "#     param.requires_grad = False\n",
        "\n",
        "# for param in model.text_model.encoder.layers[-2:].parameters():\n",
        "#     param.requires_grad = True\n",
        "# for param in model.vision_model.encoder.layers[-2:].parameters():\n",
        "#     param.requires_grad = True\n",
        "\n"
      ],
      "metadata": {
        "colab": {
          "base_uri": "https://localhost:8080/",
          "referenced_widgets": [
            "a51ae3bef96b4e10aa29e485b539c7dc",
            "48b34cf252774aa4af1147553354966d",
            "8a59faa059fb4d4ea8e0cd01b506871a",
            "87905752578646b789e4c2dd26562806",
            "4e3c80911ab94941bc9ab2f785c11d1a",
            "f94ffcd5483c4b989277a2f23c96f85b",
            "8920c96d77284af28d8ac8fb0d4e3894",
            "736e533b847e4ec998f5b6ebb50d9d3e",
            "c57ed7d27b8a408c80d916a1ab383b4e",
            "b1b223c5d34e4de1a4621e8a14a2b0e9",
            "8b839d13eb8a45bba5613c2573dae3a1",
            "1a8ce0ec37f24cfba27540596ba0e012",
            "b1827658ca0149eebd85d5732d469ea2",
            "e052fbd3c26849f5b0c22e56aac0335a",
            "41c721d5b6bf4d7384ce31bd55eabe1f",
            "bc21e5b4605e4578b9fc0597d5608fe2",
            "0f95603baeb445fabf4004873b9d64d5",
            "531484086248453d905237c150a0e5f3",
            "7a965cbb469747a1bdd201a2216359f3",
            "f7338136b41e4dbb9d9e76764dba84e5",
            "391d8cd01cf8486a9ef27faaa1f504ba",
            "3c692a9e1702456f95116c6f3f929628"
          ]
        },
        "id": "kag324u1YcN-",
        "outputId": "e9d10bd8-9e7d-4003-ec28-4a04395a021f",
        "trusted": true,
        "execution": {
          "iopub.status.busy": "2025-03-14T05:24:27.623695Z",
          "iopub.execute_input": "2025-03-14T05:24:27.623964Z",
          "iopub.status.idle": "2025-03-14T05:24:55.0224Z",
          "shell.execute_reply.started": "2025-03-14T05:24:27.623943Z",
          "shell.execute_reply": "2025-03-14T05:24:55.021693Z"
        }
      },
      "outputs": [
        {
          "output_type": "display_data",
          "data": {
            "text/plain": "config.json:   0%|          | 0.00/1.93k [00:00<?, ?B/s]",
            "application/vnd.jupyter.widget-view+json": {
              "version_major": 2,
              "version_minor": 0,
              "model_id": "a51ae3bef96b4e10aa29e485b539c7dc"
            }
          },
          "metadata": {}
        },
        {
          "output_type": "display_data",
          "data": {
            "text/plain": "configuration_clip.py:   0%|          | 0.00/12.6k [00:00<?, ?B/s]",
            "application/vnd.jupyter.widget-view+json": {
              "version_major": 2,
              "version_minor": 0,
              "model_id": "48b34cf252774aa4af1147553354966d"
            }
          },
          "metadata": {}
        },
        {
          "name": "stderr",
          "text": "A new version of the following files was downloaded from https://huggingface.co/jinaai/jina-clip-implementation:\n- configuration_clip.py\n. Make sure to double-check they do not contain any added malicious code. To avoid downloading new versions of the code file, you can pin a revision.\n",
          "output_type": "stream"
        },
        {
          "output_type": "display_data",
          "data": {
            "text/plain": "modeling_clip.py:   0%|          | 0.00/25.5k [00:00<?, ?B/s]",
            "application/vnd.jupyter.widget-view+json": {
              "version_major": 2,
              "version_minor": 0,
              "model_id": "8a59faa059fb4d4ea8e0cd01b506871a"
            }
          },
          "metadata": {}
        },
        {
          "output_type": "display_data",
          "data": {
            "text/plain": "transform.py:   0%|          | 0.00/12.7k [00:00<?, ?B/s]",
            "application/vnd.jupyter.widget-view+json": {
              "version_major": 2,
              "version_minor": 0,
              "model_id": "87905752578646b789e4c2dd26562806"
            }
          },
          "metadata": {}
        },
        {
          "name": "stderr",
          "text": "A new version of the following files was downloaded from https://huggingface.co/jinaai/jina-clip-implementation:\n- transform.py\n. Make sure to double-check they do not contain any added malicious code. To avoid downloading new versions of the code file, you can pin a revision.\n",
          "output_type": "stream"
        },
        {
          "output_type": "display_data",
          "data": {
            "text/plain": "eva_model.py:   0%|          | 0.00/26.4k [00:00<?, ?B/s]",
            "application/vnd.jupyter.widget-view+json": {
              "version_major": 2,
              "version_minor": 0,
              "model_id": "4e3c80911ab94941bc9ab2f785c11d1a"
            }
          },
          "metadata": {}
        },
        {
          "output_type": "display_data",
          "data": {
            "text/plain": "rope_embeddings.py:   0%|          | 0.00/5.71k [00:00<?, ?B/s]",
            "application/vnd.jupyter.widget-view+json": {
              "version_major": 2,
              "version_minor": 0,
              "model_id": "f94ffcd5483c4b989277a2f23c96f85b"
            }
          },
          "metadata": {}
        },
        {
          "name": "stderr",
          "text": "A new version of the following files was downloaded from https://huggingface.co/jinaai/jina-clip-implementation:\n- rope_embeddings.py\n. Make sure to double-check they do not contain any added malicious code. To avoid downloading new versions of the code file, you can pin a revision.\nA new version of the following files was downloaded from https://huggingface.co/jinaai/jina-clip-implementation:\n- eva_model.py\n- rope_embeddings.py\n. Make sure to double-check they do not contain any added malicious code. To avoid downloading new versions of the code file, you can pin a revision.\n",
          "output_type": "stream"
        },
        {
          "output_type": "display_data",
          "data": {
            "text/plain": "hf_model.py:   0%|          | 0.00/12.9k [00:00<?, ?B/s]",
            "application/vnd.jupyter.widget-view+json": {
              "version_major": 2,
              "version_minor": 0,
              "model_id": "8920c96d77284af28d8ac8fb0d4e3894"
            }
          },
          "metadata": {}
        },
        {
          "name": "stderr",
          "text": "A new version of the following files was downloaded from https://huggingface.co/jinaai/jina-clip-implementation:\n- hf_model.py\n. Make sure to double-check they do not contain any added malicious code. To avoid downloading new versions of the code file, you can pin a revision.\nA new version of the following files was downloaded from https://huggingface.co/jinaai/jina-clip-implementation:\n- modeling_clip.py\n- transform.py\n- eva_model.py\n- hf_model.py\n. Make sure to double-check they do not contain any added malicious code. To avoid downloading new versions of the code file, you can pin a revision.\n",
          "output_type": "stream"
        },
        {
          "output_type": "display_data",
          "data": {
            "text/plain": "model.safetensors:   0%|          | 0.00/891M [00:00<?, ?B/s]",
            "application/vnd.jupyter.widget-view+json": {
              "version_major": 2,
              "version_minor": 0,
              "model_id": "736e533b847e4ec998f5b6ebb50d9d3e"
            }
          },
          "metadata": {}
        },
        {
          "output_type": "display_data",
          "data": {
            "text/plain": "config.json:   0%|          | 0.00/1.24k [00:00<?, ?B/s]",
            "application/vnd.jupyter.widget-view+json": {
              "version_major": 2,
              "version_minor": 0,
              "model_id": "c57ed7d27b8a408c80d916a1ab383b4e"
            }
          },
          "metadata": {}
        },
        {
          "output_type": "display_data",
          "data": {
            "text/plain": "configuration_bert.py:   0%|          | 0.00/5.77k [00:00<?, ?B/s]",
            "application/vnd.jupyter.widget-view+json": {
              "version_major": 2,
              "version_minor": 0,
              "model_id": "b1b223c5d34e4de1a4621e8a14a2b0e9"
            }
          },
          "metadata": {}
        },
        {
          "name": "stderr",
          "text": "A new version of the following files was downloaded from https://huggingface.co/jinaai/jina-bert-flash-implementation:\n- configuration_bert.py\n. Make sure to double-check they do not contain any added malicious code. To avoid downloading new versions of the code file, you can pin a revision.\n",
          "output_type": "stream"
        },
        {
          "output_type": "display_data",
          "data": {
            "text/plain": "modeling_bert.py:   0%|          | 0.00/33.4k [00:00<?, ?B/s]",
            "application/vnd.jupyter.widget-view+json": {
              "version_major": 2,
              "version_minor": 0,
              "model_id": "8b839d13eb8a45bba5613c2573dae3a1"
            }
          },
          "metadata": {}
        },
        {
          "output_type": "display_data",
          "data": {
            "text/plain": "block.py:   0%|          | 0.00/17.4k [00:00<?, ?B/s]",
            "application/vnd.jupyter.widget-view+json": {
              "version_major": 2,
              "version_minor": 0,
              "model_id": "1a8ce0ec37f24cfba27540596ba0e012"
            }
          },
          "metadata": {}
        },
        {
          "output_type": "display_data",
          "data": {
            "text/plain": "mha.py:   0%|          | 0.00/35.4k [00:00<?, ?B/s]",
            "application/vnd.jupyter.widget-view+json": {
              "version_major": 2,
              "version_minor": 0,
              "model_id": "b1827658ca0149eebd85d5732d469ea2"
            }
          },
          "metadata": {}
        },
        {
          "name": "stderr",
          "text": "A new version of the following files was downloaded from https://huggingface.co/jinaai/jina-bert-flash-implementation:\n- mha.py\n. Make sure to double-check they do not contain any added malicious code. To avoid downloading new versions of the code file, you can pin a revision.\n",
          "output_type": "stream"
        },
        {
          "output_type": "display_data",
          "data": {
            "text/plain": "mlp.py:   0%|          | 0.00/8.05k [00:00<?, ?B/s]",
            "application/vnd.jupyter.widget-view+json": {
              "version_major": 2,
              "version_minor": 0,
              "model_id": "e052fbd3c26849f5b0c22e56aac0335a"
            }
          },
          "metadata": {}
        },
        {
          "name": "stderr",
          "text": "A new version of the following files was downloaded from https://huggingface.co/jinaai/jina-bert-flash-implementation:\n- mlp.py\n. Make sure to double-check they do not contain any added malicious code. To avoid downloading new versions of the code file, you can pin a revision.\nA new version of the following files was downloaded from https://huggingface.co/jinaai/jina-bert-flash-implementation:\n- block.py\n- mha.py\n- mlp.py\n. Make sure to double-check they do not contain any added malicious code. To avoid downloading new versions of the code file, you can pin a revision.\n",
          "output_type": "stream"
        },
        {
          "output_type": "display_data",
          "data": {
            "text/plain": "embedding.py:   0%|          | 0.00/2.26k [00:00<?, ?B/s]",
            "application/vnd.jupyter.widget-view+json": {
              "version_major": 2,
              "version_minor": 0,
              "model_id": "41c721d5b6bf4d7384ce31bd55eabe1f"
            }
          },
          "metadata": {}
        },
        {
          "name": "stderr",
          "text": "A new version of the following files was downloaded from https://huggingface.co/jinaai/jina-bert-flash-implementation:\n- embedding.py\n. Make sure to double-check they do not contain any added malicious code. To avoid downloading new versions of the code file, you can pin a revision.\n",
          "output_type": "stream"
        },
        {
          "output_type": "display_data",
          "data": {
            "text/plain": "bert_padding.py:   0%|          | 0.00/9.78k [00:00<?, ?B/s]",
            "application/vnd.jupyter.widget-view+json": {
              "version_major": 2,
              "version_minor": 0,
              "model_id": "bc21e5b4605e4578b9fc0597d5608fe2"
            }
          },
          "metadata": {}
        },
        {
          "name": "stderr",
          "text": "A new version of the following files was downloaded from https://huggingface.co/jinaai/jina-bert-flash-implementation:\n- bert_padding.py\n. Make sure to double-check they do not contain any added malicious code. To avoid downloading new versions of the code file, you can pin a revision.\nA new version of the following files was downloaded from https://huggingface.co/jinaai/jina-bert-flash-implementation:\n- modeling_bert.py\n- block.py\n- embedding.py\n- bert_padding.py\n. Make sure to double-check they do not contain any added malicious code. To avoid downloading new versions of the code file, you can pin a revision.\n",
          "output_type": "stream"
        },
        {
          "output_type": "display_data",
          "data": {
            "text/plain": "preprocessor_config.json:   0%|          | 0.00/527 [00:00<?, ?B/s]",
            "application/vnd.jupyter.widget-view+json": {
              "version_major": 2,
              "version_minor": 0,
              "model_id": "0f95603baeb445fabf4004873b9d64d5"
            }
          },
          "metadata": {}
        },
        {
          "output_type": "display_data",
          "data": {
            "text/plain": "processing_clip.py:   0%|          | 0.00/2.67k [00:00<?, ?B/s]",
            "application/vnd.jupyter.widget-view+json": {
              "version_major": 2,
              "version_minor": 0,
              "model_id": "531484086248453d905237c150a0e5f3"
            }
          },
          "metadata": {}
        },
        {
          "name": "stderr",
          "text": "A new version of the following files was downloaded from https://huggingface.co/jinaai/jina-clip-implementation:\n- processing_clip.py\n. Make sure to double-check they do not contain any added malicious code. To avoid downloading new versions of the code file, you can pin a revision.\n",
          "output_type": "stream"
        },
        {
          "output_type": "display_data",
          "data": {
            "text/plain": "tokenizer_config.json:   0%|          | 0.00/1.24k [00:00<?, ?B/s]",
            "application/vnd.jupyter.widget-view+json": {
              "version_major": 2,
              "version_minor": 0,
              "model_id": "7a965cbb469747a1bdd201a2216359f3"
            }
          },
          "metadata": {}
        },
        {
          "output_type": "display_data",
          "data": {
            "text/plain": "vocab.txt:   0%|          | 0.00/232k [00:00<?, ?B/s]",
            "application/vnd.jupyter.widget-view+json": {
              "version_major": 2,
              "version_minor": 0,
              "model_id": "f7338136b41e4dbb9d9e76764dba84e5"
            }
          },
          "metadata": {}
        },
        {
          "output_type": "display_data",
          "data": {
            "text/plain": "tokenizer.json:   0%|          | 0.00/712k [00:00<?, ?B/s]",
            "application/vnd.jupyter.widget-view+json": {
              "version_major": 2,
              "version_minor": 0,
              "model_id": "391d8cd01cf8486a9ef27faaa1f504ba"
            }
          },
          "metadata": {}
        },
        {
          "output_type": "display_data",
          "data": {
            "text/plain": "special_tokens_map.json:   0%|          | 0.00/695 [00:00<?, ?B/s]",
            "application/vnd.jupyter.widget-view+json": {
              "version_major": 2,
              "version_minor": 0,
              "model_id": "3c692a9e1702456f95116c6f3f929628"
            }
          },
          "metadata": {}
        },
        {
          "execution_count": 5,
          "output_type": "execute_result",
          "data": {
            "text/plain": "JinaCLIPModel(\n  (text_model): HFTextEncoder(\n    (transformer): BertModel(\n      (embeddings): BertEmbeddings(\n        (word_embeddings): Embedding(30528, 768, padding_idx=0)\n        (token_type_embeddings): Embedding(2, 768)\n      )\n      (emb_drop): Dropout(p=0.1, inplace=False)\n      (emb_ln): LayerNorm((768,), eps=1e-12, elementwise_affine=True)\n      (encoder): BertEncoder(\n        (layers): ModuleList(\n          (0-11): 12 x Block(\n            (mixer): MHA(\n              (Wqkv): LinearResidual(in_features=768, out_features=2304, bias=True)\n              (inner_attn): SelfAttention(\n                (drop): Dropout(p=0.1, inplace=False)\n              )\n              (inner_cross_attn): CrossAttention(\n                (drop): Dropout(p=0.1, inplace=False)\n              )\n              (out_proj): Linear(in_features=768, out_features=768, bias=True)\n            )\n            (dropout1): Dropout(p=0.1, inplace=False)\n            (drop_path1): StochasticDepth(p=0.0, mode=row)\n            (norm1): LayerNorm((768,), eps=1e-12, elementwise_affine=True)\n            (mlp): GLUMLP(\n              (gated_layers): Linear(in_features=768, out_features=6144, bias=False)\n              (act): GELU(approximate='none')\n              (wo): Linear(in_features=3072, out_features=768, bias=True)\n              (dropout): Dropout(p=0.1, inplace=False)\n            )\n            (dropout2): Dropout(p=0.1, inplace=False)\n            (drop_path2): StochasticDepth(p=0.0, mode=row)\n            (norm2): LayerNorm((768,), eps=1e-12, elementwise_affine=True)\n          )\n        )\n      )\n    )\n    (pooler): MeanPooler()\n    (proj): Identity()\n  )\n  (vision_model): EVAVisionTransformer(\n    (patch_embed): PatchEmbed(\n      (proj): Conv2d(3, 768, kernel_size=(16, 16), stride=(16, 16))\n    )\n    (pos_drop): Dropout(p=0.0, inplace=False)\n    (rope): VisionRotaryEmbeddingFast()\n    (blocks): ModuleList(\n      (0-11): 12 x Block(\n        (norm1): LayerNorm((768,), eps=1e-06, elementwise_affine=True)\n        (attn): Attention(\n          (q_proj): Linear(in_features=768, out_features=768, bias=False)\n          (k_proj): Linear(in_features=768, out_features=768, bias=False)\n          (v_proj): Linear(in_features=768, out_features=768, bias=False)\n          (attn_drop): Dropout(p=0.0, inplace=False)\n          (inner_attn_ln): LayerNorm((768,), eps=1e-06, elementwise_affine=True)\n          (proj): Linear(in_features=768, out_features=768, bias=True)\n          (proj_drop): Dropout(p=0.0, inplace=False)\n          (rope): VisionRotaryEmbeddingFast()\n        )\n        (drop_path): Identity()\n        (norm2): LayerNorm((768,), eps=1e-06, elementwise_affine=True)\n        (mlp): SwiGLU(\n          (w1): Linear(in_features=768, out_features=2048, bias=True)\n          (w2): Linear(in_features=768, out_features=2048, bias=True)\n          (act): SiLU()\n          (ffn_ln): LayerNorm((2048,), eps=1e-06, elementwise_affine=True)\n          (w3): Linear(in_features=2048, out_features=768, bias=True)\n          (drop): Dropout(p=0.0, inplace=False)\n        )\n      )\n    )\n    (norm): LayerNorm((768,), eps=1e-06, elementwise_affine=True)\n    (head): Identity()\n    (patch_dropout): PatchDropout()\n  )\n  (visual_projection): Identity()\n  (text_projection): Identity()\n)"
          },
          "metadata": {}
        }
      ],
      "execution_count": null
    },
    {
      "cell_type": "code",
      "source": [
        "from sklearn.model_selection import train_test_split\n",
        "\n",
        "_, train = train_test_split(df, test_size=0.2, stratify=df['category']+df['target'])"
      ],
      "metadata": {
        "id": "5DDUUu6EsdZV",
        "trusted": true,
        "execution": {
          "iopub.status.busy": "2025-03-14T05:24:55.023202Z",
          "iopub.execute_input": "2025-03-14T05:24:55.023477Z",
          "iopub.status.idle": "2025-03-14T05:24:55.097888Z",
          "shell.execute_reply.started": "2025-03-14T05:24:55.023454Z",
          "shell.execute_reply": "2025-03-14T05:24:55.09692Z"
        }
      },
      "outputs": [],
      "execution_count": null
    },
    {
      "cell_type": "code",
      "source": [
        "train.target.value_counts()"
      ],
      "metadata": {
        "colab": {
          "base_uri": "https://localhost:8080/",
          "height": 680
        },
        "id": "S1c8dHxms5OY",
        "outputId": "b0e6620c-ecc5-44c0-8283-4f68768b9da1",
        "trusted": true,
        "execution": {
          "iopub.status.busy": "2025-03-14T05:24:55.098873Z",
          "iopub.execute_input": "2025-03-14T05:24:55.099129Z",
          "iopub.status.idle": "2025-03-14T05:24:55.111285Z",
          "shell.execute_reply.started": "2025-03-14T05:24:55.099107Z",
          "shell.execute_reply": "2025-03-14T05:24:55.110415Z"
        }
      },
      "outputs": [
        {
          "execution_count": 7,
          "output_type": "execute_result",
          "data": {
            "text/plain": "target\nchernyi         781\nbelyi           416\nkorichnevyi     367\nraznocvetnyi    321\nbezhevyi        273\nsinii           256\nrozovyi         211\nseryi           197\nzelenyi         116\nkrasnyi          93\ngoluboi          83\nfioletovyi       53\nbordovyi         51\nzheltyi          41\noranzhevyi       33\nserebristyi      21\nzolotoi          15\nbiryuzovyi        3\nName: count, dtype: int64"
          },
          "metadata": {}
        }
      ],
      "execution_count": null
    },
    {
      "cell_type": "code",
      "source": [
        "class CustomDataset(torch.utils.data.Dataset):\n",
        "    def __init__(self, data):\n",
        "        self.data = data\n",
        "        self.image_transform = transforms.Compose([\n",
        "            transforms.Resize((224, 224)),\n",
        "            transforms.ToTensor(),\n",
        "        ])\n",
        "\n",
        "    def __len__(self):\n",
        "        return len(self.data)\n",
        "\n",
        "    def __getitem__(self, idx):\n",
        "        item = self.data.iloc[idx]\n",
        "        image = Image.open(item['path']).convert('RGB')\n",
        "        image = self.image_transform(image)\n",
        "        text = item['text']\n",
        "        return {'image': image, 'text': text}\n",
        "\n",
        "dataset = CustomDataset(train)\n",
        "dataloader = DataLoader(dataset, batch_size=100, shuffle=True)\n",
        "\n"
      ],
      "metadata": {
        "id": "xc3chuiFdlE6",
        "trusted": true,
        "execution": {
          "iopub.status.busy": "2025-03-14T05:24:55.112054Z",
          "iopub.execute_input": "2025-03-14T05:24:55.112299Z",
          "iopub.status.idle": "2025-03-14T05:24:55.126703Z",
          "shell.execute_reply.started": "2025-03-14T05:24:55.11228Z",
          "shell.execute_reply": "2025-03-14T05:24:55.125785Z"
        }
      },
      "outputs": [],
      "execution_count": null
    },
    {
      "cell_type": "code",
      "source": [
        "optimizer = torch.optim.Adam(\n",
        "    filter(lambda p: p.requires_grad, model.parameters()),\n",
        "    lr=1e-5\n",
        ")\n",
        "\n"
      ],
      "metadata": {
        "id": "uHGx5cOgeb5_",
        "trusted": true,
        "execution": {
          "iopub.status.busy": "2025-03-14T05:24:55.127443Z",
          "iopub.execute_input": "2025-03-14T05:24:55.127721Z",
          "iopub.status.idle": "2025-03-14T05:24:55.14456Z",
          "shell.execute_reply.started": "2025-03-14T05:24:55.127698Z",
          "shell.execute_reply": "2025-03-14T05:24:55.143694Z"
        }
      },
      "outputs": [],
      "execution_count": null
    },
    {
      "cell_type": "code",
      "source": [
        "device"
      ],
      "metadata": {
        "trusted": true,
        "execution": {
          "iopub.status.busy": "2025-03-14T05:24:55.145332Z",
          "iopub.execute_input": "2025-03-14T05:24:55.145546Z",
          "iopub.status.idle": "2025-03-14T05:24:55.163007Z",
          "shell.execute_reply.started": "2025-03-14T05:24:55.145518Z",
          "shell.execute_reply": "2025-03-14T05:24:55.162313Z"
        },
        "id": "HmLpDgtv-DED",
        "outputId": "4a1eea54-d9c8-4596-a70f-e6d14aa84505"
      },
      "outputs": [
        {
          "execution_count": 10,
          "output_type": "execute_result",
          "data": {
            "text/plain": "'cuda'"
          },
          "metadata": {}
        }
      ],
      "execution_count": null
    },
    {
      "cell_type": "code",
      "source": [
        "from tqdm import tqdm\n",
        "\n",
        "model.train()\n",
        "for epoch in range(5):\n",
        "    print(f\"Epoch {epoch + 1}/{5}\")\n",
        "\n",
        "    pbar = tqdm(dataloader, desc=\"Training\", unit=\"batch\")\n",
        "    for batch in pbar:\n",
        "        images, texts = [transforms.ToPILImage()(image) for image in batch['image']], batch['text']\n",
        "\n",
        "        inputs = processor(\n",
        "            text=texts,\n",
        "            images=images,\n",
        "            return_tensors=\"pt\",\n",
        "            padding=True,\n",
        "            truncation=True,\n",
        "        ).to(device)\n",
        "\n",
        "        outputs = model(**inputs)\n",
        "\n",
        "        logits_per_image = outputs.logits_per_image\n",
        "        logits_per_text = outputs.logits_per_text\n",
        "\n",
        "        labels = torch.arange(len(images), device=device)\n",
        "        loss = (F.cross_entropy(logits_per_image, labels) +\n",
        "               F.cross_entropy(logits_per_text, labels)) / 2\n",
        "\n",
        "        optimizer.zero_grad()\n",
        "        loss.backward()\n",
        "        optimizer.step()\n",
        "\n",
        "        pbar.set_postfix(loss=loss.item())\n",
        "\n",
        "    print(f\"Epoch {epoch + 1}, Loss: {loss.item()}\")"
      ],
      "metadata": {
        "colab": {
          "base_uri": "https://localhost:8080/"
        },
        "id": "bNXLEXnXedV8",
        "outputId": "6d7869c4-41f6-4c3d-c8cb-bc5e7fa631ce",
        "trusted": true,
        "execution": {
          "iopub.status.busy": "2025-03-14T05:24:55.163813Z",
          "iopub.execute_input": "2025-03-14T05:24:55.164017Z",
          "iopub.status.idle": "2025-03-14T05:37:27.653687Z",
          "shell.execute_reply.started": "2025-03-14T05:24:55.164Z",
          "shell.execute_reply": "2025-03-14T05:37:27.652929Z"
        }
      },
      "outputs": [
        {
          "name": "stdout",
          "text": "Epoch 1/5\n",
          "output_type": "stream"
        },
        {
          "name": "stderr",
          "text": "Training: 100%|██████████| 67/67 [03:09<00:00,  2.82s/batch, loss=1.66]\n",
          "output_type": "stream"
        },
        {
          "name": "stdout",
          "text": "Epoch 1, Loss: 1.6613121032714844\nEpoch 2/5\n",
          "output_type": "stream"
        },
        {
          "name": "stderr",
          "text": "Training: 100%|██████████| 67/67 [02:21<00:00,  2.12s/batch, loss=1.19]\n",
          "output_type": "stream"
        },
        {
          "name": "stdout",
          "text": "Epoch 2, Loss: 1.18839693069458\nEpoch 3/5\n",
          "output_type": "stream"
        },
        {
          "name": "stderr",
          "text": "Training: 100%|██████████| 67/67 [02:21<00:00,  2.12s/batch, loss=0.956]\n",
          "output_type": "stream"
        },
        {
          "name": "stdout",
          "text": "Epoch 3, Loss: 0.9564576148986816\nEpoch 4/5\n",
          "output_type": "stream"
        },
        {
          "name": "stderr",
          "text": "Training: 100%|██████████| 67/67 [02:19<00:00,  2.09s/batch, loss=1.21]\n",
          "output_type": "stream"
        },
        {
          "name": "stdout",
          "text": "Epoch 4, Loss: 1.2135322093963623\nEpoch 5/5\n",
          "output_type": "stream"
        },
        {
          "name": "stderr",
          "text": "Training: 100%|██████████| 67/67 [02:20<00:00,  2.09s/batch, loss=1.16] ",
          "output_type": "stream"
        },
        {
          "name": "stdout",
          "text": "Epoch 5, Loss: 1.1579777002334595\n",
          "output_type": "stream"
        },
        {
          "name": "stderr",
          "text": "\n",
          "output_type": "stream"
        }
      ],
      "execution_count": null
    },
    {
      "cell_type": "code",
      "source": [
        "torch.save(model.state_dict(), \"winwin.pth\")"
      ],
      "metadata": {
        "id": "-JEQThtbeeZF",
        "trusted": true,
        "execution": {
          "iopub.status.busy": "2025-03-14T05:40:28.781291Z",
          "iopub.execute_input": "2025-03-14T05:40:28.781606Z",
          "iopub.status.idle": "2025-03-14T05:40:29.877005Z",
          "shell.execute_reply.started": "2025-03-14T05:40:28.781584Z",
          "shell.execute_reply": "2025-03-14T05:40:29.876302Z"
        }
      },
      "outputs": [],
      "execution_count": null
    },
    {
      "cell_type": "code",
      "source": [],
      "metadata": {
        "id": "RHEcuIF0y2UP",
        "trusted": true
      },
      "outputs": [],
      "execution_count": null
    },
    {
      "cell_type": "code",
      "source": [],
      "metadata": {
        "trusted": true,
        "id": "hBes3YmW-DEF"
      },
      "outputs": [],
      "execution_count": null
    }
  ]
}